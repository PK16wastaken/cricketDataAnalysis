{
 "cells": [
  {
   "cell_type": "code",
   "id": "initial_id",
   "metadata": {
    "collapsed": true,
    "ExecuteTime": {
     "end_time": "2025-06-16T21:24:51.606085Z",
     "start_time": "2025-06-16T21:24:51.600490Z"
    }
   },
   "source": [
    "import pandas as pd\n",
    "import matplotlib.pyplot as plt\n",
    "import seaborn as sn"
   ],
   "outputs": [],
   "execution_count": 2
  },
  {
   "metadata": {
    "ExecuteTime": {
     "end_time": "2025-06-16T21:24:57.659412Z",
     "start_time": "2025-06-16T21:24:57.624196Z"
    }
   },
   "cell_type": "code",
   "source": "cricket_data = pd.read_csv(\"Cricket-all-teams-all-matches.csv\")",
   "id": "371cbaca350defa0",
   "outputs": [],
   "execution_count": 3
  },
  {
   "metadata": {
    "ExecuteTime": {
     "end_time": "2025-06-16T21:29:59.992123Z",
     "start_time": "2025-06-16T21:29:59.981604Z"
    }
   },
   "cell_type": "code",
   "source": "cricket_data.head()",
   "id": "c67c921b9a0fc3d0",
   "outputs": [
    {
     "data": {
      "text/plain": [
       "     Team 1    Team 2    Winner     Margin        Ground          Match Date  \\\n",
       "0     India  Pakistan     drawn        NaN     Bengaluru      Dec 8-12, 2007   \n",
       "1     India  Pakistan     drawn        NaN  Eden Gardens  Nov 30-Dec 4, 2007   \n",
       "2     India  Pakistan     India  6 wickets         Delhi     Nov 22-26, 2007   \n",
       "3  Pakistan     India  Pakistan   341 runs       Karachi  Jan 29-Feb 1, 2006   \n",
       "4  Pakistan     India     drawn        NaN    Faisalabad     Jan 21-25, 2006   \n",
       "\n",
       "     Scorecard Format  \n",
       "0  Test # 1852  Test   \n",
       "1  Test # 1850  Test   \n",
       "2  Test # 1849  Test   \n",
       "3  Test # 1783  Test   \n",
       "4  Test # 1782  Test   "
      ],
      "text/html": [
       "<div>\n",
       "<style scoped>\n",
       "    .dataframe tbody tr th:only-of-type {\n",
       "        vertical-align: middle;\n",
       "    }\n",
       "\n",
       "    .dataframe tbody tr th {\n",
       "        vertical-align: top;\n",
       "    }\n",
       "\n",
       "    .dataframe thead th {\n",
       "        text-align: right;\n",
       "    }\n",
       "</style>\n",
       "<table border=\"1\" class=\"dataframe\">\n",
       "  <thead>\n",
       "    <tr style=\"text-align: right;\">\n",
       "      <th></th>\n",
       "      <th>Team 1</th>\n",
       "      <th>Team 2</th>\n",
       "      <th>Winner</th>\n",
       "      <th>Margin</th>\n",
       "      <th>Ground</th>\n",
       "      <th>Match Date</th>\n",
       "      <th>Scorecard</th>\n",
       "      <th>Format</th>\n",
       "    </tr>\n",
       "  </thead>\n",
       "  <tbody>\n",
       "    <tr>\n",
       "      <th>0</th>\n",
       "      <td>India</td>\n",
       "      <td>Pakistan</td>\n",
       "      <td>drawn</td>\n",
       "      <td>NaN</td>\n",
       "      <td>Bengaluru</td>\n",
       "      <td>Dec 8-12, 2007</td>\n",
       "      <td>Test # 1852</td>\n",
       "      <td>Test</td>\n",
       "    </tr>\n",
       "    <tr>\n",
       "      <th>1</th>\n",
       "      <td>India</td>\n",
       "      <td>Pakistan</td>\n",
       "      <td>drawn</td>\n",
       "      <td>NaN</td>\n",
       "      <td>Eden Gardens</td>\n",
       "      <td>Nov 30-Dec 4, 2007</td>\n",
       "      <td>Test # 1850</td>\n",
       "      <td>Test</td>\n",
       "    </tr>\n",
       "    <tr>\n",
       "      <th>2</th>\n",
       "      <td>India</td>\n",
       "      <td>Pakistan</td>\n",
       "      <td>India</td>\n",
       "      <td>6 wickets</td>\n",
       "      <td>Delhi</td>\n",
       "      <td>Nov 22-26, 2007</td>\n",
       "      <td>Test # 1849</td>\n",
       "      <td>Test</td>\n",
       "    </tr>\n",
       "    <tr>\n",
       "      <th>3</th>\n",
       "      <td>Pakistan</td>\n",
       "      <td>India</td>\n",
       "      <td>Pakistan</td>\n",
       "      <td>341 runs</td>\n",
       "      <td>Karachi</td>\n",
       "      <td>Jan 29-Feb 1, 2006</td>\n",
       "      <td>Test # 1783</td>\n",
       "      <td>Test</td>\n",
       "    </tr>\n",
       "    <tr>\n",
       "      <th>4</th>\n",
       "      <td>Pakistan</td>\n",
       "      <td>India</td>\n",
       "      <td>drawn</td>\n",
       "      <td>NaN</td>\n",
       "      <td>Faisalabad</td>\n",
       "      <td>Jan 21-25, 2006</td>\n",
       "      <td>Test # 1782</td>\n",
       "      <td>Test</td>\n",
       "    </tr>\n",
       "  </tbody>\n",
       "</table>\n",
       "</div>"
      ]
     },
     "execution_count": 6,
     "metadata": {},
     "output_type": "execute_result"
    }
   ],
   "execution_count": 6
  },
  {
   "metadata": {
    "ExecuteTime": {
     "end_time": "2025-06-16T21:30:05.905508Z",
     "start_time": "2025-06-16T21:30:05.893281Z"
    }
   },
   "cell_type": "code",
   "source": [
    "# Remove drawn games\n",
    "new_cricket_data = cricket_data.dropna()"
   ],
   "id": "f31d3abf802235b7",
   "outputs": [],
   "execution_count": 7
  },
  {
   "metadata": {
    "ExecuteTime": {
     "end_time": "2025-06-16T21:30:07.314701Z",
     "start_time": "2025-06-16T21:30:07.307744Z"
    }
   },
   "cell_type": "code",
   "source": [
    "#Restrict Data to just Test matches\n",
    "test_cricket_data = new_cricket_data.loc[new_cricket_data['Format'] == 'Test ', :]"
   ],
   "id": "99dc8949f67f8461",
   "outputs": [],
   "execution_count": 8
  },
  {
   "metadata": {
    "ExecuteTime": {
     "end_time": "2025-06-16T21:30:24.966714Z",
     "start_time": "2025-06-16T21:30:24.955250Z"
    }
   },
   "cell_type": "code",
   "source": [
    "#Add Year Column\n",
    "test_cricket_data['Year'] = test_cricket_data['Match Date'].str[-4:]"
   ],
   "id": "e96b6d370338c56",
   "outputs": [
    {
     "name": "stderr",
     "output_type": "stream",
     "text": [
      "C:\\Users\\krish\\AppData\\Local\\Temp\\ipykernel_16572\\280095735.py:2: SettingWithCopyWarning: \n",
      "A value is trying to be set on a copy of a slice from a DataFrame.\n",
      "Try using .loc[row_indexer,col_indexer] = value instead\n",
      "\n",
      "See the caveats in the documentation: https://pandas.pydata.org/pandas-docs/stable/user_guide/indexing.html#returning-a-view-versus-a-copy\n",
      "  test_cricket_data['Year'] = test_cricket_data['Match Date'].str[-4:]\n"
     ]
    }
   ],
   "execution_count": 9
  },
  {
   "metadata": {
    "ExecuteTime": {
     "end_time": "2025-06-16T21:30:33.199063Z",
     "start_time": "2025-06-16T21:30:33.192465Z"
    }
   },
   "cell_type": "code",
   "source": [
    "#Sort Data By Year\n",
    "test_cricket_data_sorted = test_cricket_data.sort_values('Year', ascending=True).groupby(['Year', 'Team 1'])"
   ],
   "id": "ffc8e892a802a9b7",
   "outputs": [],
   "execution_count": 10
  },
  {
   "metadata": {
    "ExecuteTime": {
     "end_time": "2025-06-16T21:38:02.395294Z",
     "start_time": "2025-06-16T21:38:02.387020Z"
    }
   },
   "cell_type": "code",
   "source": [
    "#Add Wins-Per-Year Column\n",
    "wins_per_year_team = test_cricket_data_sorted.size().reset_index(name='wins')"
   ],
   "id": "e1ab8dbae212510c",
   "outputs": [],
   "execution_count": 13
  },
  {
   "metadata": {
    "ExecuteTime": {
     "end_time": "2025-06-16T21:38:15.523787Z",
     "start_time": "2025-06-16T21:38:15.514152Z"
    }
   },
   "cell_type": "code",
   "source": "wins_per_year_team",
   "id": "c3d7737e651cb7fd",
   "outputs": [
    {
     "data": {
      "text/plain": [
       "     Year        Team 1  wins\n",
       "0    1877     Australia     2\n",
       "1    1879     Australia     1\n",
       "2    1880       England     1\n",
       "3    1882     Australia     2\n",
       "4    1882       England     1\n",
       "..    ...           ...   ...\n",
       "577  2025     Australia     1\n",
       "578  2025      Pakistan     2\n",
       "579  2025  South Africa     1\n",
       "580  2025     Sri Lanka     2\n",
       "581  2025      Zimbabwe     2\n",
       "\n",
       "[582 rows x 3 columns]"
      ],
      "text/html": [
       "<div>\n",
       "<style scoped>\n",
       "    .dataframe tbody tr th:only-of-type {\n",
       "        vertical-align: middle;\n",
       "    }\n",
       "\n",
       "    .dataframe tbody tr th {\n",
       "        vertical-align: top;\n",
       "    }\n",
       "\n",
       "    .dataframe thead th {\n",
       "        text-align: right;\n",
       "    }\n",
       "</style>\n",
       "<table border=\"1\" class=\"dataframe\">\n",
       "  <thead>\n",
       "    <tr style=\"text-align: right;\">\n",
       "      <th></th>\n",
       "      <th>Year</th>\n",
       "      <th>Team 1</th>\n",
       "      <th>wins</th>\n",
       "    </tr>\n",
       "  </thead>\n",
       "  <tbody>\n",
       "    <tr>\n",
       "      <th>0</th>\n",
       "      <td>1877</td>\n",
       "      <td>Australia</td>\n",
       "      <td>2</td>\n",
       "    </tr>\n",
       "    <tr>\n",
       "      <th>1</th>\n",
       "      <td>1879</td>\n",
       "      <td>Australia</td>\n",
       "      <td>1</td>\n",
       "    </tr>\n",
       "    <tr>\n",
       "      <th>2</th>\n",
       "      <td>1880</td>\n",
       "      <td>England</td>\n",
       "      <td>1</td>\n",
       "    </tr>\n",
       "    <tr>\n",
       "      <th>3</th>\n",
       "      <td>1882</td>\n",
       "      <td>Australia</td>\n",
       "      <td>2</td>\n",
       "    </tr>\n",
       "    <tr>\n",
       "      <th>4</th>\n",
       "      <td>1882</td>\n",
       "      <td>England</td>\n",
       "      <td>1</td>\n",
       "    </tr>\n",
       "    <tr>\n",
       "      <th>...</th>\n",
       "      <td>...</td>\n",
       "      <td>...</td>\n",
       "      <td>...</td>\n",
       "    </tr>\n",
       "    <tr>\n",
       "      <th>577</th>\n",
       "      <td>2025</td>\n",
       "      <td>Australia</td>\n",
       "      <td>1</td>\n",
       "    </tr>\n",
       "    <tr>\n",
       "      <th>578</th>\n",
       "      <td>2025</td>\n",
       "      <td>Pakistan</td>\n",
       "      <td>2</td>\n",
       "    </tr>\n",
       "    <tr>\n",
       "      <th>579</th>\n",
       "      <td>2025</td>\n",
       "      <td>South Africa</td>\n",
       "      <td>1</td>\n",
       "    </tr>\n",
       "    <tr>\n",
       "      <th>580</th>\n",
       "      <td>2025</td>\n",
       "      <td>Sri Lanka</td>\n",
       "      <td>2</td>\n",
       "    </tr>\n",
       "    <tr>\n",
       "      <th>581</th>\n",
       "      <td>2025</td>\n",
       "      <td>Zimbabwe</td>\n",
       "      <td>2</td>\n",
       "    </tr>\n",
       "  </tbody>\n",
       "</table>\n",
       "<p>582 rows × 3 columns</p>\n",
       "</div>"
      ]
     },
     "execution_count": 14,
     "metadata": {},
     "output_type": "execute_result"
    }
   ],
   "execution_count": 14
  }
 ],
 "metadata": {
  "kernelspec": {
   "display_name": "Python 3",
   "language": "python",
   "name": "python3"
  },
  "language_info": {
   "codemirror_mode": {
    "name": "ipython",
    "version": 2
   },
   "file_extension": ".py",
   "mimetype": "text/x-python",
   "name": "python",
   "nbconvert_exporter": "python",
   "pygments_lexer": "ipython2",
   "version": "2.7.6"
  }
 },
 "nbformat": 4,
 "nbformat_minor": 5
}
